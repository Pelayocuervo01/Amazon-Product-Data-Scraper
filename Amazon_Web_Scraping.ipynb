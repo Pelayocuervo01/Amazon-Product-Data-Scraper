{
  "nbformat": 4,
  "nbformat_minor": 0,
  "metadata": {
    "colab": {
      "provenance": []
    },
    "kernelspec": {
      "name": "python3",
      "display_name": "Python 3"
    },
    "language_info": {
      "name": "python"
    }
  },
  "cells": [
    {
      "cell_type": "markdown",
      "source": [
        "**Amazon Product Data Scraper**\n",
        "\n",
        "---\n",
        ": This project uses Python and the requests and Beautiful Soup libraries to scrape data from Amazon product pages. It extracts information such as product title, price, ratings, number of reviews, and availability, which can be stored in a structured format (like CSV, Excel or in a dataframe) for further analysis.\n",
        "\n",
        "**1. Importing Libraries:**\n",
        "\n",
        "- `requests`: Used to make HTTP requests to fetch the webpage content.\n",
        "- `BeautifulSoup`: Used to parse the HTML content and extract data.\n",
        "- `time`, `datetime`: Used for handling time-related tasks (if needed).\n",
        "- `pandas`: Used for data manipulation and storage (if you intend to store the data in a dataframe).\n",
        "\n",
        "**2. Defining Extraction Functions:**\n",
        "\n",
        "- `get_title`, `get_price`, `get_ratings`, `get_stars`, `get_availability`: These functions take a BeautifulSoup object (representing the HTML content) and extract specific product information. They use BeautifulSoup's `find` and `get_text` methods to locate and extract data based on HTML tags and attributes. If the information is not found, they return \"N/A\".\n",
        "\n",
        "**3. Fetching Product Data:**\n",
        "\n",
        "- The code sets up the URL of an Amazon product page and headers for the request.\n",
        "- It uses `requests.get` to fetch the webpage content.\n",
        "- It creates a BeautifulSoup object (`soup1`) to parse the content using the `lxml` parser.\n",
        "\n",
        "**4. Extracting and Displaying Data:**\n",
        "\n",
        "- The code calls the extraction functions (e.g., `get_title(soup1)`) to extract the desired information from the `soup1` object.\n",
        "- The extracted data is then printed to the console.\n",
        "\n",
        "**5. Scraping Multiple Products:**\n",
        "\n",
        "- A header is defined for the scraper to identify itself to Amazon.\n",
        "- The code fetches product links from an Amazon search results page for \"pink ipad\".\n",
        "- It iterates through the links, making a request to each product page and extracting data using the defined functions.\n",
        "- The extracted data for each product is printed to the console.\n",
        "\n",
        "**In summary, the code acts as a web scraper to automatically extract product data from Amazon and display it.** This data can be further processed or stored for analysis."
      ],
      "metadata": {
        "id": "BGfzFdwLQkNF"
      }
    },
    {
      "cell_type": "code",
      "source": [
        "import bs4\n",
        "from bs4 import BeautifulSoup\n",
        "import requests\n",
        "import time\n",
        "import datetime\n",
        "import pandas as pd"
      ],
      "metadata": {
        "id": "Pkn0EBg0-gJ5"
      },
      "execution_count": null,
      "outputs": []
    },
    {
      "cell_type": "markdown",
      "source": [],
      "metadata": {
        "id": "IaDV5nneQxV8"
      }
    },
    {
      "cell_type": "code",
      "source": [
        "URL = \"https://www.amazon.com/Sony-PlayStation-500GB-Premium-Bundle-4/dp/B0DHYN6C69/ref=sr_1_1_sspa?dib=eyJ2IjoiMSJ9.Qm_QLXKAY0urfoup8ZpaMGhvRftCjGy7a9Wlj8u5VZiGP6U6D1Jmjwl6NrzKClIHY2hdPbyXvBeaf1q4nwEMl7b-XOphB99lKkP5Eg7t0zzJ33x7wEdtAZxPrAMmOeDEXCVZ1dSAIA-cjELjcjiHw4wTA-mfiJ4pDpqEouX5ZvdPbvrmeJXcQKtiuyurBWwsupRy3JKv1XgroNaQjeC-nWo76g0xBNgyFE3xlzZJ9JU.JbgINLVN-MSedo_Ta-JnwRwo8aPUmOFLWJPpvHzfZso&dib_tag=se&keywords=playstation+4&qid=1730981073&sr=8-1-spons&sp_csd=d2lkZ2V0TmFtZT1zcF9hdGY&psc=1\"\n",
        "### https://httpbin.org/get ###\n",
        "headers = ({'User-Agent':\n",
        "            'Mozilla/5.0 (X11; Linux x86_64) AppleWebKit/537.36 (KHTML, like Gecko) Chrome/44.0.2403.157 Safari/537.36',\n",
        "            'Accept-Language': 'en-US, en;q=0.5'})\n",
        "###############################\n",
        "\n",
        "page = requests.get(URL,headers = headers)\n",
        "\n",
        "soup1 = BeautifulSoup(page.content, \"lxml\")\n"
      ],
      "metadata": {
        "id": "Kl77AL-f-gvw"
      },
      "execution_count": null,
      "outputs": []
    },
    {
      "cell_type": "markdown",
      "source": [
        "\n",
        "\n",
        "---\n",
        "\n"
      ],
      "metadata": {
        "id": "d1UagLBfeYEX"
      }
    },
    {
      "cell_type": "code",
      "source": [
        "def get_title(soup):\n",
        "  try:\n",
        "      title = soup.find(\"span\", attrs={\"id\":\"productTitle\"})\n",
        "      title_value = title.get_text().strip()\n",
        "  except:\n",
        "      title_value = \"N/A\"\n",
        "  return title_value\n",
        "get_title(soup1)"
      ],
      "metadata": {
        "colab": {
          "base_uri": "https://localhost:8080/",
          "height": 35
        },
        "id": "WtV-ovBwDCGN",
        "outputId": "f7c2e148-9ba2-4a2a-cdad-ddacadb9cd30"
      },
      "execution_count": null,
      "outputs": [
        {
          "output_type": "execute_result",
          "data": {
            "text/plain": [
              "'N/A'"
            ],
            "application/vnd.google.colaboratory.intrinsic+json": {
              "type": "string"
            }
          },
          "metadata": {},
          "execution_count": 7
        }
      ]
    },
    {
      "cell_type": "code",
      "source": [
        "def get_price(soup):\n",
        "  try:\n",
        "    price = soup.find(\"span\", attrs={\"class\":\"a-price-whole\"})\n",
        "    price_value = price.get_text().strip()\n",
        "  except:\n",
        "    price_value = \"N/A\"\n",
        "  return price_value\n",
        "get_price(soup1)\n"
      ],
      "metadata": {
        "colab": {
          "base_uri": "https://localhost:8080/",
          "height": 35
        },
        "id": "8Gz_gdHbXMqt",
        "outputId": "31e89c74-3cd4-46a5-f6d3-203dbfbf5ef1"
      },
      "execution_count": null,
      "outputs": [
        {
          "output_type": "execute_result",
          "data": {
            "text/plain": [
              "'N/A'"
            ],
            "application/vnd.google.colaboratory.intrinsic+json": {
              "type": "string"
            }
          },
          "metadata": {},
          "execution_count": 8
        }
      ]
    },
    {
      "cell_type": "code",
      "source": [
        "def get_ratings(soup):\n",
        "  try:\n",
        "    rating = soup1.find(\"span\", attrs={\"id\":\"acrCustomerReviewText\"})\n",
        "    rating_value = rating.get_text().strip()\n",
        "  except:\n",
        "    rating_value = \"N/A\"\n",
        "  return rating_value\n",
        "get_ratings(soup1)"
      ],
      "metadata": {
        "colab": {
          "base_uri": "https://localhost:8080/",
          "height": 35
        },
        "id": "kG5PK4s2YrLP",
        "outputId": "b870d674-8ac9-4d64-915a-99e7fb43374b"
      },
      "execution_count": null,
      "outputs": [
        {
          "output_type": "execute_result",
          "data": {
            "text/plain": [
              "'N/A'"
            ],
            "application/vnd.google.colaboratory.intrinsic+json": {
              "type": "string"
            }
          },
          "metadata": {},
          "execution_count": 9
        }
      ]
    },
    {
      "cell_type": "code",
      "source": [
        "def get_stars(soup):\n",
        "  try:\n",
        "    stars = soup.find(\"span\", attrs={\"id\":\"acrPopover\"})\n",
        "    stars_value = stars.get_text().strip()\n",
        "    stars_array = stars_value.split()[1:]\n",
        "    stars_final = ' '.join(stars_value.split()[1:])\n",
        "\n",
        "  except:\n",
        "    stars_final = \"N/A\"\n",
        "  return stars_final\n",
        "get_stars(soup1)"
      ],
      "metadata": {
        "colab": {
          "base_uri": "https://localhost:8080/",
          "height": 35
        },
        "id": "789DjOaOaIvP",
        "outputId": "d316f68d-6bca-4de3-a94b-3153f8df7460"
      },
      "execution_count": null,
      "outputs": [
        {
          "output_type": "execute_result",
          "data": {
            "text/plain": [
              "'N/A'"
            ],
            "application/vnd.google.colaboratory.intrinsic+json": {
              "type": "string"
            }
          },
          "metadata": {},
          "execution_count": 10
        }
      ]
    },
    {
      "cell_type": "code",
      "source": [
        "def get_availability(soup):\n",
        "\ttry:\n",
        "\t\tavailable = soup.find(\"span\", attrs={'id':'availability'})\n",
        "\t\tavailable = available.find(\"span\").string.strip()\n",
        "\n",
        "\texcept AttributeError:\n",
        "\t\tavailable = \"N/A\"\n",
        "\n",
        "\treturn available\n",
        "get_availability(soup1)"
      ],
      "metadata": {
        "colab": {
          "base_uri": "https://localhost:8080/",
          "height": 35
        },
        "id": "xvXMuizwdJZv",
        "outputId": "43a31c79-e77a-4ac8-bd1c-3e1db2d720c8"
      },
      "execution_count": null,
      "outputs": [
        {
          "output_type": "execute_result",
          "data": {
            "text/plain": [
              "'N/A'"
            ],
            "application/vnd.google.colaboratory.intrinsic+json": {
              "type": "string"
            }
          },
          "metadata": {},
          "execution_count": 11
        }
      ]
    },
    {
      "cell_type": "code",
      "source": [
        "if __name__ == '__main__':\n",
        "  header = ({'User-Agent':\n",
        "\t            'Mozilla/5.0 (X11; CrOS x86_64 14541.0.0) AppleWebKit/537.36 (KHTML, like Gecko) Chrome/130.0.0.0 Safari/537.36',\n",
        "\t            'Accept-Language': 'en-US'})\n",
        "  URL = \"https://www.amazon.co.uk/s?k=pink+ipad&crid=M4TWXFEQQUKW&sprefix=pink+ipad%2Caps%2C96&ref=nb_sb_noss_1\"\n",
        "  webpage = requests.get(URL, headers=header)\n",
        "  soup = BeautifulSoup(webpage.content, \"lxml\")\n",
        "  links = soup.find_all(\"a\", attrs={'class':'a-link-normal s-no-outline'})\n",
        "  links_list = []\n",
        "  for link in links:\n",
        "      links_list.append(link.get('href'))\n",
        "  for link in links_list:\n",
        "      new_webpage = requests.get(\"https://www.amazon.com\" + link, headers=header)\n",
        "      new_soup = BeautifulSoup(new_webpage.content, \"lxml\")\n",
        "      print(\"Product Title =\", get_title(new_soup))\n",
        "      print(\"Product Price =\", get_price(new_soup))\n",
        "      print(\"Product Rating =\", get_ratings(new_soup))\n",
        "      print(\"Number of Product Reviews =\", get_stars(new_soup))\n",
        "      print(\"Availability =\", get_availability(new_soup))\n",
        "      print()\n",
        "      print()"
      ],
      "metadata": {
        "colab": {
          "base_uri": "https://localhost:8080/",
          "height": 1000
        },
        "id": "J70D-P79X-yd",
        "outputId": "9fdcc712-d9c6-44b9-a25c-5a66758e7281"
      },
      "execution_count": null,
      "outputs": [
        {
          "output_type": "stream",
          "name": "stdout",
          "text": [
            "Product Title = N/A\n",
            "Product Price = N/A\n",
            "Product Rating = N/A\n",
            "Number of Product Reviews = N/A\n",
            "Availability = N/A\n",
            "\n",
            "\n",
            "Product Title = N/A\n",
            "Product Price = N/A\n",
            "Product Rating = N/A\n",
            "Number of Product Reviews = N/A\n",
            "Availability = N/A\n",
            "\n",
            "\n",
            "Product Title = N/A\n",
            "Product Price = N/A\n",
            "Product Rating = N/A\n",
            "Number of Product Reviews = N/A\n",
            "Availability = N/A\n",
            "\n",
            "\n",
            "Product Title = ProCase for iPad 10th Generation Case with Pencil Holder 2022 10.9 Inch, Clear Back iPad 10 Case, 10th Gen iPad Case for A2696 A2757 A2777 -Pink\n",
            "Product Price = 9.\n",
            "Product Rating = N/A\n",
            "Number of Product Reviews = 4.6 out of 5 stars\n",
            "Availability = N/A\n",
            "\n",
            "\n",
            "Product Title = N/A\n",
            "Product Price = N/A\n",
            "Product Rating = N/A\n",
            "Number of Product Reviews = N/A\n",
            "Availability = N/A\n",
            "\n",
            "\n",
            "Product Title = N/A\n",
            "Product Price = N/A\n",
            "Product Rating = N/A\n",
            "Number of Product Reviews = N/A\n",
            "Availability = N/A\n",
            "\n",
            "\n",
            "Product Title = N/A\n",
            "Product Price = N/A\n",
            "Product Rating = N/A\n",
            "Number of Product Reviews = N/A\n",
            "Availability = N/A\n",
            "\n",
            "\n",
            "Product Title = ProCase for iPad 10th Generation Case 10.9 Inch 2022, Slim Stand Protective 10th Gen iPad Case with Translucent Hard Back, Smart Cover iPad 10 Case, Support Touch ID, Auto Wake/Sleep -Pink\n",
            "Product Price = 4.\n",
            "Product Rating = N/A\n",
            "Number of Product Reviews = 4.5 out of 5 stars\n",
            "Availability = N/A\n",
            "\n",
            "\n",
            "Product Title = N/A\n",
            "Product Price = N/A\n",
            "Product Rating = N/A\n",
            "Number of Product Reviews = N/A\n",
            "Availability = N/A\n",
            "\n",
            "\n",
            "Product Title = Fintie Hybrid Slim Case for iPad 10th Generation 10.9 Inch Tablet (2022 Model) - [Built-in Pencil Holder] Shockproof Cover with Clear Transparent Back Shell, Auto Wake/Sleep, Pink\n",
            "Product Price = 5.\n",
            "Product Rating = N/A\n",
            "Number of Product Reviews = 4.6 out of 5 stars\n",
            "Availability = N/A\n",
            "\n",
            "\n",
            "Product Title = N/A\n",
            "Product Price = N/A\n",
            "Product Rating = N/A\n",
            "Number of Product Reviews = N/A\n",
            "Availability = N/A\n",
            "\n",
            "\n",
            "Product Title = N/A\n",
            "Product Price = N/A\n",
            "Product Rating = N/A\n",
            "Number of Product Reviews = N/A\n",
            "Availability = N/A\n",
            "\n",
            "\n",
            "Product Title = MoKo Clear Case for iPad 10th Generation 2022, iPad 10 Case, Slim & Lightweight Soft TPU Anti-Scratch Back with Shockproof Impact Resistant Raised Edge for 10th Gen iPad Case 2022, Glitter Flower Pink\n",
            "Product Price = 11.\n",
            "Product Rating = N/A\n",
            "Number of Product Reviews = 4.7 out of 5 stars\n",
            "Availability = N/A\n",
            "\n",
            "\n",
            "Product Title = N/A\n",
            "Product Price = N/A\n",
            "Product Rating = N/A\n",
            "Number of Product Reviews = N/A\n",
            "Availability = N/A\n",
            "\n",
            "\n",
            "Product Title = N/A\n",
            "Product Price = N/A\n",
            "Product Rating = N/A\n",
            "Number of Product Reviews = N/A\n",
            "Availability = N/A\n",
            "\n",
            "\n",
            "Product Title = N/A\n",
            "Product Price = N/A\n",
            "Product Rating = N/A\n",
            "Number of Product Reviews = N/A\n",
            "Availability = N/A\n",
            "\n",
            "\n"
          ]
        },
        {
          "output_type": "error",
          "ename": "ConnectionError",
          "evalue": "HTTPSConnectionPool(host='www.amazon.comhttps', port=443): Max retries exceeded with url: /aax-eu.amazon.co.uk/x/c/JHwD1Z5CreGfxfQ8uxccKs0AAAGTCH54_wMAAAH2AQBvbm9fdHhuX2JpZDIgICBvbm9fdHhuX2ltcDEgICCQbrtK/https://www.amazon.co.uk/Adjustable-Bracket-Surface-Portable-Monitor-Black/dp/B08L4W9C9N/ref=sxbs_sbv_search_btf?content-id=amzn1.sym.74376d27-29ad-4668-acf9-017b903e74ef%3Aamzn1.sym.74376d27-29ad-4668-acf9-017b903e74ef&crid=M4TWXFEQQUKW&cv_ct_cx=pink+ipad&dib=eyJ2IjoiMSJ9.7waBeZPu-rUCBJtKKBe0MQ.sOyuFcmSBq1Ms__aWPz7DZPzjbOkPvOXe7wBYEL6nLU&dib_tag=se&keywords=pink+ipad&nsdOptOutParam=true&pd_rd_i=B08L4W9C9N&pd_rd_r=cc0be81d-54d1-4890-bd27-b3c0cb4d8161&pd_rd_w=xE9Hv&pd_rd_wg=WahfG&pf_rd_p=74376d27-29ad-4668-acf9-017b903e74ef&pf_rd_r=B7ASJJDMR0V1XZ9YFE1S&qid=1731014326&sbo=RZvfv%2F%2FHxDF%2BO5021pAnSA%3D%3D&sprefix=pink+ipad%2Caps%2C96&sr=1-1-f1821008-9dea-4812-b2b6-4a6e4a4f2d55 (Caused by NameResolutionError(\"<urllib3.connection.HTTPSConnection object at 0x7800c3986d70>: Failed to resolve 'www.amazon.comhttps' ([Errno -2] Name or service not known)\"))",
          "traceback": [
            "\u001b[0;31m---------------------------------------------------------------------------\u001b[0m",
            "\u001b[0;31mgaierror\u001b[0m                                  Traceback (most recent call last)",
            "\u001b[0;32m/usr/local/lib/python3.10/dist-packages/urllib3/connection.py\u001b[0m in \u001b[0;36m_new_conn\u001b[0;34m(self)\u001b[0m\n\u001b[1;32m    198\u001b[0m         \u001b[0;32mtry\u001b[0m\u001b[0;34m:\u001b[0m\u001b[0;34m\u001b[0m\u001b[0;34m\u001b[0m\u001b[0m\n\u001b[0;32m--> 199\u001b[0;31m             sock = connection.create_connection(\n\u001b[0m\u001b[1;32m    200\u001b[0m                 \u001b[0;34m(\u001b[0m\u001b[0mself\u001b[0m\u001b[0;34m.\u001b[0m\u001b[0m_dns_host\u001b[0m\u001b[0;34m,\u001b[0m \u001b[0mself\u001b[0m\u001b[0;34m.\u001b[0m\u001b[0mport\u001b[0m\u001b[0;34m)\u001b[0m\u001b[0;34m,\u001b[0m\u001b[0;34m\u001b[0m\u001b[0;34m\u001b[0m\u001b[0m\n",
            "\u001b[0;32m/usr/local/lib/python3.10/dist-packages/urllib3/util/connection.py\u001b[0m in \u001b[0;36mcreate_connection\u001b[0;34m(address, timeout, source_address, socket_options)\u001b[0m\n\u001b[1;32m     59\u001b[0m \u001b[0;34m\u001b[0m\u001b[0m\n\u001b[0;32m---> 60\u001b[0;31m     \u001b[0;32mfor\u001b[0m \u001b[0mres\u001b[0m \u001b[0;32min\u001b[0m \u001b[0msocket\u001b[0m\u001b[0;34m.\u001b[0m\u001b[0mgetaddrinfo\u001b[0m\u001b[0;34m(\u001b[0m\u001b[0mhost\u001b[0m\u001b[0;34m,\u001b[0m \u001b[0mport\u001b[0m\u001b[0;34m,\u001b[0m \u001b[0mfamily\u001b[0m\u001b[0;34m,\u001b[0m \u001b[0msocket\u001b[0m\u001b[0;34m.\u001b[0m\u001b[0mSOCK_STREAM\u001b[0m\u001b[0;34m)\u001b[0m\u001b[0;34m:\u001b[0m\u001b[0;34m\u001b[0m\u001b[0;34m\u001b[0m\u001b[0m\n\u001b[0m\u001b[1;32m     61\u001b[0m         \u001b[0maf\u001b[0m\u001b[0;34m,\u001b[0m \u001b[0msocktype\u001b[0m\u001b[0;34m,\u001b[0m \u001b[0mproto\u001b[0m\u001b[0;34m,\u001b[0m \u001b[0mcanonname\u001b[0m\u001b[0;34m,\u001b[0m \u001b[0msa\u001b[0m \u001b[0;34m=\u001b[0m \u001b[0mres\u001b[0m\u001b[0;34m\u001b[0m\u001b[0;34m\u001b[0m\u001b[0m\n",
            "\u001b[0;32m/usr/lib/python3.10/socket.py\u001b[0m in \u001b[0;36mgetaddrinfo\u001b[0;34m(host, port, family, type, proto, flags)\u001b[0m\n\u001b[1;32m    954\u001b[0m     \u001b[0maddrlist\u001b[0m \u001b[0;34m=\u001b[0m \u001b[0;34m[\u001b[0m\u001b[0;34m]\u001b[0m\u001b[0;34m\u001b[0m\u001b[0;34m\u001b[0m\u001b[0m\n\u001b[0;32m--> 955\u001b[0;31m     \u001b[0;32mfor\u001b[0m \u001b[0mres\u001b[0m \u001b[0;32min\u001b[0m \u001b[0m_socket\u001b[0m\u001b[0;34m.\u001b[0m\u001b[0mgetaddrinfo\u001b[0m\u001b[0;34m(\u001b[0m\u001b[0mhost\u001b[0m\u001b[0;34m,\u001b[0m \u001b[0mport\u001b[0m\u001b[0;34m,\u001b[0m \u001b[0mfamily\u001b[0m\u001b[0;34m,\u001b[0m \u001b[0mtype\u001b[0m\u001b[0;34m,\u001b[0m \u001b[0mproto\u001b[0m\u001b[0;34m,\u001b[0m \u001b[0mflags\u001b[0m\u001b[0;34m)\u001b[0m\u001b[0;34m:\u001b[0m\u001b[0;34m\u001b[0m\u001b[0;34m\u001b[0m\u001b[0m\n\u001b[0m\u001b[1;32m    956\u001b[0m         \u001b[0maf\u001b[0m\u001b[0;34m,\u001b[0m \u001b[0msocktype\u001b[0m\u001b[0;34m,\u001b[0m \u001b[0mproto\u001b[0m\u001b[0;34m,\u001b[0m \u001b[0mcanonname\u001b[0m\u001b[0;34m,\u001b[0m \u001b[0msa\u001b[0m \u001b[0;34m=\u001b[0m \u001b[0mres\u001b[0m\u001b[0;34m\u001b[0m\u001b[0;34m\u001b[0m\u001b[0m\n",
            "\u001b[0;31mgaierror\u001b[0m: [Errno -2] Name or service not known",
            "\nThe above exception was the direct cause of the following exception:\n",
            "\u001b[0;31mNameResolutionError\u001b[0m                       Traceback (most recent call last)",
            "\u001b[0;32m/usr/local/lib/python3.10/dist-packages/urllib3/connectionpool.py\u001b[0m in \u001b[0;36murlopen\u001b[0;34m(self, method, url, body, headers, retries, redirect, assert_same_host, timeout, pool_timeout, release_conn, chunked, body_pos, preload_content, decode_content, **response_kw)\u001b[0m\n\u001b[1;32m    788\u001b[0m             \u001b[0;31m# Make the request on the HTTPConnection object\u001b[0m\u001b[0;34m\u001b[0m\u001b[0;34m\u001b[0m\u001b[0m\n\u001b[0;32m--> 789\u001b[0;31m             response = self._make_request(\n\u001b[0m\u001b[1;32m    790\u001b[0m                 \u001b[0mconn\u001b[0m\u001b[0;34m,\u001b[0m\u001b[0;34m\u001b[0m\u001b[0;34m\u001b[0m\u001b[0m\n",
            "\u001b[0;32m/usr/local/lib/python3.10/dist-packages/urllib3/connectionpool.py\u001b[0m in \u001b[0;36m_make_request\u001b[0;34m(self, conn, method, url, body, headers, retries, timeout, chunked, response_conn, preload_content, decode_content, enforce_content_length)\u001b[0m\n\u001b[1;32m    489\u001b[0m                 \u001b[0mnew_e\u001b[0m \u001b[0;34m=\u001b[0m \u001b[0m_wrap_proxy_error\u001b[0m\u001b[0;34m(\u001b[0m\u001b[0mnew_e\u001b[0m\u001b[0;34m,\u001b[0m \u001b[0mconn\u001b[0m\u001b[0;34m.\u001b[0m\u001b[0mproxy\u001b[0m\u001b[0;34m.\u001b[0m\u001b[0mscheme\u001b[0m\u001b[0;34m)\u001b[0m\u001b[0;34m\u001b[0m\u001b[0;34m\u001b[0m\u001b[0m\n\u001b[0;32m--> 490\u001b[0;31m             \u001b[0;32mraise\u001b[0m \u001b[0mnew_e\u001b[0m\u001b[0;34m\u001b[0m\u001b[0;34m\u001b[0m\u001b[0m\n\u001b[0m\u001b[1;32m    491\u001b[0m \u001b[0;34m\u001b[0m\u001b[0m\n",
            "\u001b[0;32m/usr/local/lib/python3.10/dist-packages/urllib3/connectionpool.py\u001b[0m in \u001b[0;36m_make_request\u001b[0;34m(self, conn, method, url, body, headers, retries, timeout, chunked, response_conn, preload_content, decode_content, enforce_content_length)\u001b[0m\n\u001b[1;32m    465\u001b[0m             \u001b[0;32mtry\u001b[0m\u001b[0;34m:\u001b[0m\u001b[0;34m\u001b[0m\u001b[0;34m\u001b[0m\u001b[0m\n\u001b[0;32m--> 466\u001b[0;31m                 \u001b[0mself\u001b[0m\u001b[0;34m.\u001b[0m\u001b[0m_validate_conn\u001b[0m\u001b[0;34m(\u001b[0m\u001b[0mconn\u001b[0m\u001b[0;34m)\u001b[0m\u001b[0;34m\u001b[0m\u001b[0;34m\u001b[0m\u001b[0m\n\u001b[0m\u001b[1;32m    467\u001b[0m             \u001b[0;32mexcept\u001b[0m \u001b[0;34m(\u001b[0m\u001b[0mSocketTimeout\u001b[0m\u001b[0;34m,\u001b[0m \u001b[0mBaseSSLError\u001b[0m\u001b[0;34m)\u001b[0m \u001b[0;32mas\u001b[0m \u001b[0me\u001b[0m\u001b[0;34m:\u001b[0m\u001b[0;34m\u001b[0m\u001b[0;34m\u001b[0m\u001b[0m\n",
            "\u001b[0;32m/usr/local/lib/python3.10/dist-packages/urllib3/connectionpool.py\u001b[0m in \u001b[0;36m_validate_conn\u001b[0;34m(self, conn)\u001b[0m\n\u001b[1;32m   1094\u001b[0m         \u001b[0;32mif\u001b[0m \u001b[0mconn\u001b[0m\u001b[0;34m.\u001b[0m\u001b[0mis_closed\u001b[0m\u001b[0;34m:\u001b[0m\u001b[0;34m\u001b[0m\u001b[0;34m\u001b[0m\u001b[0m\n\u001b[0;32m-> 1095\u001b[0;31m             \u001b[0mconn\u001b[0m\u001b[0;34m.\u001b[0m\u001b[0mconnect\u001b[0m\u001b[0;34m(\u001b[0m\u001b[0;34m)\u001b[0m\u001b[0;34m\u001b[0m\u001b[0;34m\u001b[0m\u001b[0m\n\u001b[0m\u001b[1;32m   1096\u001b[0m \u001b[0;34m\u001b[0m\u001b[0m\n",
            "\u001b[0;32m/usr/local/lib/python3.10/dist-packages/urllib3/connection.py\u001b[0m in \u001b[0;36mconnect\u001b[0;34m(self)\u001b[0m\n\u001b[1;32m    692\u001b[0m             \u001b[0msock\u001b[0m\u001b[0;34m:\u001b[0m \u001b[0msocket\u001b[0m\u001b[0;34m.\u001b[0m\u001b[0msocket\u001b[0m \u001b[0;34m|\u001b[0m \u001b[0mssl\u001b[0m\u001b[0;34m.\u001b[0m\u001b[0mSSLSocket\u001b[0m\u001b[0;34m\u001b[0m\u001b[0;34m\u001b[0m\u001b[0m\n\u001b[0;32m--> 693\u001b[0;31m             \u001b[0mself\u001b[0m\u001b[0;34m.\u001b[0m\u001b[0msock\u001b[0m \u001b[0;34m=\u001b[0m \u001b[0msock\u001b[0m \u001b[0;34m=\u001b[0m \u001b[0mself\u001b[0m\u001b[0;34m.\u001b[0m\u001b[0m_new_conn\u001b[0m\u001b[0;34m(\u001b[0m\u001b[0;34m)\u001b[0m\u001b[0;34m\u001b[0m\u001b[0;34m\u001b[0m\u001b[0m\n\u001b[0m\u001b[1;32m    694\u001b[0m             \u001b[0mserver_hostname\u001b[0m\u001b[0;34m:\u001b[0m \u001b[0mstr\u001b[0m \u001b[0;34m=\u001b[0m \u001b[0mself\u001b[0m\u001b[0;34m.\u001b[0m\u001b[0mhost\u001b[0m\u001b[0;34m\u001b[0m\u001b[0;34m\u001b[0m\u001b[0m\n",
            "\u001b[0;32m/usr/local/lib/python3.10/dist-packages/urllib3/connection.py\u001b[0m in \u001b[0;36m_new_conn\u001b[0;34m(self)\u001b[0m\n\u001b[1;32m    205\u001b[0m         \u001b[0;32mexcept\u001b[0m \u001b[0msocket\u001b[0m\u001b[0;34m.\u001b[0m\u001b[0mgaierror\u001b[0m \u001b[0;32mas\u001b[0m \u001b[0me\u001b[0m\u001b[0;34m:\u001b[0m\u001b[0;34m\u001b[0m\u001b[0;34m\u001b[0m\u001b[0m\n\u001b[0;32m--> 206\u001b[0;31m             \u001b[0;32mraise\u001b[0m \u001b[0mNameResolutionError\u001b[0m\u001b[0;34m(\u001b[0m\u001b[0mself\u001b[0m\u001b[0;34m.\u001b[0m\u001b[0mhost\u001b[0m\u001b[0;34m,\u001b[0m \u001b[0mself\u001b[0m\u001b[0;34m,\u001b[0m \u001b[0me\u001b[0m\u001b[0;34m)\u001b[0m \u001b[0;32mfrom\u001b[0m \u001b[0me\u001b[0m\u001b[0;34m\u001b[0m\u001b[0;34m\u001b[0m\u001b[0m\n\u001b[0m\u001b[1;32m    207\u001b[0m         \u001b[0;32mexcept\u001b[0m \u001b[0mSocketTimeout\u001b[0m \u001b[0;32mas\u001b[0m \u001b[0me\u001b[0m\u001b[0;34m:\u001b[0m\u001b[0;34m\u001b[0m\u001b[0;34m\u001b[0m\u001b[0m\n",
            "\u001b[0;31mNameResolutionError\u001b[0m: <urllib3.connection.HTTPSConnection object at 0x7800c3986d70>: Failed to resolve 'www.amazon.comhttps' ([Errno -2] Name or service not known)",
            "\nThe above exception was the direct cause of the following exception:\n",
            "\u001b[0;31mMaxRetryError\u001b[0m                             Traceback (most recent call last)",
            "\u001b[0;32m/usr/local/lib/python3.10/dist-packages/requests/adapters.py\u001b[0m in \u001b[0;36msend\u001b[0;34m(self, request, stream, timeout, verify, cert, proxies)\u001b[0m\n\u001b[1;32m    666\u001b[0m         \u001b[0;32mtry\u001b[0m\u001b[0;34m:\u001b[0m\u001b[0;34m\u001b[0m\u001b[0;34m\u001b[0m\u001b[0m\n\u001b[0;32m--> 667\u001b[0;31m             resp = conn.urlopen(\n\u001b[0m\u001b[1;32m    668\u001b[0m                 \u001b[0mmethod\u001b[0m\u001b[0;34m=\u001b[0m\u001b[0mrequest\u001b[0m\u001b[0;34m.\u001b[0m\u001b[0mmethod\u001b[0m\u001b[0;34m,\u001b[0m\u001b[0;34m\u001b[0m\u001b[0;34m\u001b[0m\u001b[0m\n",
            "\u001b[0;32m/usr/local/lib/python3.10/dist-packages/urllib3/connectionpool.py\u001b[0m in \u001b[0;36murlopen\u001b[0;34m(self, method, url, body, headers, retries, redirect, assert_same_host, timeout, pool_timeout, release_conn, chunked, body_pos, preload_content, decode_content, **response_kw)\u001b[0m\n\u001b[1;32m    842\u001b[0m \u001b[0;34m\u001b[0m\u001b[0m\n\u001b[0;32m--> 843\u001b[0;31m             retries = retries.increment(\n\u001b[0m\u001b[1;32m    844\u001b[0m                 \u001b[0mmethod\u001b[0m\u001b[0;34m,\u001b[0m \u001b[0murl\u001b[0m\u001b[0;34m,\u001b[0m \u001b[0merror\u001b[0m\u001b[0;34m=\u001b[0m\u001b[0mnew_e\u001b[0m\u001b[0;34m,\u001b[0m \u001b[0m_pool\u001b[0m\u001b[0;34m=\u001b[0m\u001b[0mself\u001b[0m\u001b[0;34m,\u001b[0m \u001b[0m_stacktrace\u001b[0m\u001b[0;34m=\u001b[0m\u001b[0msys\u001b[0m\u001b[0;34m.\u001b[0m\u001b[0mexc_info\u001b[0m\u001b[0;34m(\u001b[0m\u001b[0;34m)\u001b[0m\u001b[0;34m[\u001b[0m\u001b[0;36m2\u001b[0m\u001b[0;34m]\u001b[0m\u001b[0;34m\u001b[0m\u001b[0;34m\u001b[0m\u001b[0m\n",
            "\u001b[0;32m/usr/local/lib/python3.10/dist-packages/urllib3/util/retry.py\u001b[0m in \u001b[0;36mincrement\u001b[0;34m(self, method, url, response, error, _pool, _stacktrace)\u001b[0m\n\u001b[1;32m    518\u001b[0m             \u001b[0mreason\u001b[0m \u001b[0;34m=\u001b[0m \u001b[0merror\u001b[0m \u001b[0;32mor\u001b[0m \u001b[0mResponseError\u001b[0m\u001b[0;34m(\u001b[0m\u001b[0mcause\u001b[0m\u001b[0;34m)\u001b[0m\u001b[0;34m\u001b[0m\u001b[0;34m\u001b[0m\u001b[0m\n\u001b[0;32m--> 519\u001b[0;31m             \u001b[0;32mraise\u001b[0m \u001b[0mMaxRetryError\u001b[0m\u001b[0;34m(\u001b[0m\u001b[0m_pool\u001b[0m\u001b[0;34m,\u001b[0m \u001b[0murl\u001b[0m\u001b[0;34m,\u001b[0m \u001b[0mreason\u001b[0m\u001b[0;34m)\u001b[0m \u001b[0;32mfrom\u001b[0m \u001b[0mreason\u001b[0m  \u001b[0;31m# type: ignore[arg-type]\u001b[0m\u001b[0;34m\u001b[0m\u001b[0;34m\u001b[0m\u001b[0m\n\u001b[0m\u001b[1;32m    520\u001b[0m \u001b[0;34m\u001b[0m\u001b[0m\n",
            "\u001b[0;31mMaxRetryError\u001b[0m: HTTPSConnectionPool(host='www.amazon.comhttps', port=443): Max retries exceeded with url: /aax-eu.amazon.co.uk/x/c/JHwD1Z5CreGfxfQ8uxccKs0AAAGTCH54_wMAAAH2AQBvbm9fdHhuX2JpZDIgICBvbm9fdHhuX2ltcDEgICCQbrtK/https://www.amazon.co.uk/Adjustable-Bracket-Surface-Portable-Monitor-Black/dp/B08L4W9C9N/ref=sxbs_sbv_search_btf?content-id=amzn1.sym.74376d27-29ad-4668-acf9-017b903e74ef%3Aamzn1.sym.74376d27-29ad-4668-acf9-017b903e74ef&crid=M4TWXFEQQUKW&cv_ct_cx=pink+ipad&dib=eyJ2IjoiMSJ9.7waBeZPu-rUCBJtKKBe0MQ.sOyuFcmSBq1Ms__aWPz7DZPzjbOkPvOXe7wBYEL6nLU&dib_tag=se&keywords=pink+ipad&nsdOptOutParam=true&pd_rd_i=B08L4W9C9N&pd_rd_r=cc0be81d-54d1-4890-bd27-b3c0cb4d8161&pd_rd_w=xE9Hv&pd_rd_wg=WahfG&pf_rd_p=74376d27-29ad-4668-acf9-017b903e74ef&pf_rd_r=B7ASJJDMR0V1XZ9YFE1S&qid=1731014326&sbo=RZvfv%2F%2FHxDF%2BO5021pAnSA%3D%3D&sprefix=pink+ipad%2Caps%2C96&sr=1-1-f1821008-9dea-4812-b2b6-4a6e4a4f2d55 (Caused by NameResolutionError(\"<urllib3.connection.HTTPSConnection object at 0x7800c3986d70>: Failed to resolve 'www.amazon.comhttps' ([Errno -2] Name or service not known)\"))",
            "\nDuring handling of the above exception, another exception occurred:\n",
            "\u001b[0;31mConnectionError\u001b[0m                           Traceback (most recent call last)",
            "\u001b[0;32m<ipython-input-106-1a278c0d78d0>\u001b[0m in \u001b[0;36m<cell line: 1>\u001b[0;34m()\u001b[0m\n\u001b[1;32m     11\u001b[0m       \u001b[0mlinks_list\u001b[0m\u001b[0;34m.\u001b[0m\u001b[0mappend\u001b[0m\u001b[0;34m(\u001b[0m\u001b[0mlink\u001b[0m\u001b[0;34m.\u001b[0m\u001b[0mget\u001b[0m\u001b[0;34m(\u001b[0m\u001b[0;34m'href'\u001b[0m\u001b[0;34m)\u001b[0m\u001b[0;34m)\u001b[0m\u001b[0;34m\u001b[0m\u001b[0;34m\u001b[0m\u001b[0m\n\u001b[1;32m     12\u001b[0m   \u001b[0;32mfor\u001b[0m \u001b[0mlink\u001b[0m \u001b[0;32min\u001b[0m \u001b[0mlinks_list\u001b[0m\u001b[0;34m:\u001b[0m\u001b[0;34m\u001b[0m\u001b[0;34m\u001b[0m\u001b[0m\n\u001b[0;32m---> 13\u001b[0;31m       \u001b[0mnew_webpage\u001b[0m \u001b[0;34m=\u001b[0m \u001b[0mrequests\u001b[0m\u001b[0;34m.\u001b[0m\u001b[0mget\u001b[0m\u001b[0;34m(\u001b[0m\u001b[0;34m\"https://www.amazon.com\"\u001b[0m \u001b[0;34m+\u001b[0m \u001b[0mlink\u001b[0m\u001b[0;34m,\u001b[0m \u001b[0mheaders\u001b[0m\u001b[0;34m=\u001b[0m\u001b[0mheader\u001b[0m\u001b[0;34m)\u001b[0m\u001b[0;34m\u001b[0m\u001b[0;34m\u001b[0m\u001b[0m\n\u001b[0m\u001b[1;32m     14\u001b[0m       \u001b[0mnew_soup\u001b[0m \u001b[0;34m=\u001b[0m \u001b[0mBeautifulSoup\u001b[0m\u001b[0;34m(\u001b[0m\u001b[0mnew_webpage\u001b[0m\u001b[0;34m.\u001b[0m\u001b[0mcontent\u001b[0m\u001b[0;34m,\u001b[0m \u001b[0;34m\"lxml\"\u001b[0m\u001b[0;34m)\u001b[0m\u001b[0;34m\u001b[0m\u001b[0;34m\u001b[0m\u001b[0m\n\u001b[1;32m     15\u001b[0m       \u001b[0mprint\u001b[0m\u001b[0;34m(\u001b[0m\u001b[0;34m\"Product Title =\"\u001b[0m\u001b[0;34m,\u001b[0m \u001b[0mget_title\u001b[0m\u001b[0;34m(\u001b[0m\u001b[0mnew_soup\u001b[0m\u001b[0;34m)\u001b[0m\u001b[0;34m)\u001b[0m\u001b[0;34m\u001b[0m\u001b[0;34m\u001b[0m\u001b[0m\n",
            "\u001b[0;32m/usr/local/lib/python3.10/dist-packages/requests/api.py\u001b[0m in \u001b[0;36mget\u001b[0;34m(url, params, **kwargs)\u001b[0m\n\u001b[1;32m     71\u001b[0m     \"\"\"\n\u001b[1;32m     72\u001b[0m \u001b[0;34m\u001b[0m\u001b[0m\n\u001b[0;32m---> 73\u001b[0;31m     \u001b[0;32mreturn\u001b[0m \u001b[0mrequest\u001b[0m\u001b[0;34m(\u001b[0m\u001b[0;34m\"get\"\u001b[0m\u001b[0;34m,\u001b[0m \u001b[0murl\u001b[0m\u001b[0;34m,\u001b[0m \u001b[0mparams\u001b[0m\u001b[0;34m=\u001b[0m\u001b[0mparams\u001b[0m\u001b[0;34m,\u001b[0m \u001b[0;34m**\u001b[0m\u001b[0mkwargs\u001b[0m\u001b[0;34m)\u001b[0m\u001b[0;34m\u001b[0m\u001b[0;34m\u001b[0m\u001b[0m\n\u001b[0m\u001b[1;32m     74\u001b[0m \u001b[0;34m\u001b[0m\u001b[0m\n\u001b[1;32m     75\u001b[0m \u001b[0;34m\u001b[0m\u001b[0m\n",
            "\u001b[0;32m/usr/local/lib/python3.10/dist-packages/requests/api.py\u001b[0m in \u001b[0;36mrequest\u001b[0;34m(method, url, **kwargs)\u001b[0m\n\u001b[1;32m     57\u001b[0m     \u001b[0;31m# cases, and look like a memory leak in others.\u001b[0m\u001b[0;34m\u001b[0m\u001b[0;34m\u001b[0m\u001b[0m\n\u001b[1;32m     58\u001b[0m     \u001b[0;32mwith\u001b[0m \u001b[0msessions\u001b[0m\u001b[0;34m.\u001b[0m\u001b[0mSession\u001b[0m\u001b[0;34m(\u001b[0m\u001b[0;34m)\u001b[0m \u001b[0;32mas\u001b[0m \u001b[0msession\u001b[0m\u001b[0;34m:\u001b[0m\u001b[0;34m\u001b[0m\u001b[0;34m\u001b[0m\u001b[0m\n\u001b[0;32m---> 59\u001b[0;31m         \u001b[0;32mreturn\u001b[0m \u001b[0msession\u001b[0m\u001b[0;34m.\u001b[0m\u001b[0mrequest\u001b[0m\u001b[0;34m(\u001b[0m\u001b[0mmethod\u001b[0m\u001b[0;34m=\u001b[0m\u001b[0mmethod\u001b[0m\u001b[0;34m,\u001b[0m \u001b[0murl\u001b[0m\u001b[0;34m=\u001b[0m\u001b[0murl\u001b[0m\u001b[0;34m,\u001b[0m \u001b[0;34m**\u001b[0m\u001b[0mkwargs\u001b[0m\u001b[0;34m)\u001b[0m\u001b[0;34m\u001b[0m\u001b[0;34m\u001b[0m\u001b[0m\n\u001b[0m\u001b[1;32m     60\u001b[0m \u001b[0;34m\u001b[0m\u001b[0m\n\u001b[1;32m     61\u001b[0m \u001b[0;34m\u001b[0m\u001b[0m\n",
            "\u001b[0;32m/usr/local/lib/python3.10/dist-packages/requests/sessions.py\u001b[0m in \u001b[0;36mrequest\u001b[0;34m(self, method, url, params, data, headers, cookies, files, auth, timeout, allow_redirects, proxies, hooks, stream, verify, cert, json)\u001b[0m\n\u001b[1;32m    587\u001b[0m         }\n\u001b[1;32m    588\u001b[0m         \u001b[0msend_kwargs\u001b[0m\u001b[0;34m.\u001b[0m\u001b[0mupdate\u001b[0m\u001b[0;34m(\u001b[0m\u001b[0msettings\u001b[0m\u001b[0;34m)\u001b[0m\u001b[0;34m\u001b[0m\u001b[0;34m\u001b[0m\u001b[0m\n\u001b[0;32m--> 589\u001b[0;31m         \u001b[0mresp\u001b[0m \u001b[0;34m=\u001b[0m \u001b[0mself\u001b[0m\u001b[0;34m.\u001b[0m\u001b[0msend\u001b[0m\u001b[0;34m(\u001b[0m\u001b[0mprep\u001b[0m\u001b[0;34m,\u001b[0m \u001b[0;34m**\u001b[0m\u001b[0msend_kwargs\u001b[0m\u001b[0;34m)\u001b[0m\u001b[0;34m\u001b[0m\u001b[0;34m\u001b[0m\u001b[0m\n\u001b[0m\u001b[1;32m    590\u001b[0m \u001b[0;34m\u001b[0m\u001b[0m\n\u001b[1;32m    591\u001b[0m         \u001b[0;32mreturn\u001b[0m \u001b[0mresp\u001b[0m\u001b[0;34m\u001b[0m\u001b[0;34m\u001b[0m\u001b[0m\n",
            "\u001b[0;32m/usr/local/lib/python3.10/dist-packages/requests/sessions.py\u001b[0m in \u001b[0;36msend\u001b[0;34m(self, request, **kwargs)\u001b[0m\n\u001b[1;32m    701\u001b[0m \u001b[0;34m\u001b[0m\u001b[0m\n\u001b[1;32m    702\u001b[0m         \u001b[0;31m# Send the request\u001b[0m\u001b[0;34m\u001b[0m\u001b[0;34m\u001b[0m\u001b[0m\n\u001b[0;32m--> 703\u001b[0;31m         \u001b[0mr\u001b[0m \u001b[0;34m=\u001b[0m \u001b[0madapter\u001b[0m\u001b[0;34m.\u001b[0m\u001b[0msend\u001b[0m\u001b[0;34m(\u001b[0m\u001b[0mrequest\u001b[0m\u001b[0;34m,\u001b[0m \u001b[0;34m**\u001b[0m\u001b[0mkwargs\u001b[0m\u001b[0;34m)\u001b[0m\u001b[0;34m\u001b[0m\u001b[0;34m\u001b[0m\u001b[0m\n\u001b[0m\u001b[1;32m    704\u001b[0m \u001b[0;34m\u001b[0m\u001b[0m\n\u001b[1;32m    705\u001b[0m         \u001b[0;31m# Total elapsed time of the request (approximately)\u001b[0m\u001b[0;34m\u001b[0m\u001b[0;34m\u001b[0m\u001b[0m\n",
            "\u001b[0;32m/usr/local/lib/python3.10/dist-packages/requests/adapters.py\u001b[0m in \u001b[0;36msend\u001b[0;34m(self, request, stream, timeout, verify, cert, proxies)\u001b[0m\n\u001b[1;32m    698\u001b[0m                 \u001b[0;32mraise\u001b[0m \u001b[0mSSLError\u001b[0m\u001b[0;34m(\u001b[0m\u001b[0me\u001b[0m\u001b[0;34m,\u001b[0m \u001b[0mrequest\u001b[0m\u001b[0;34m=\u001b[0m\u001b[0mrequest\u001b[0m\u001b[0;34m)\u001b[0m\u001b[0;34m\u001b[0m\u001b[0;34m\u001b[0m\u001b[0m\n\u001b[1;32m    699\u001b[0m \u001b[0;34m\u001b[0m\u001b[0m\n\u001b[0;32m--> 700\u001b[0;31m             \u001b[0;32mraise\u001b[0m \u001b[0mConnectionError\u001b[0m\u001b[0;34m(\u001b[0m\u001b[0me\u001b[0m\u001b[0;34m,\u001b[0m \u001b[0mrequest\u001b[0m\u001b[0;34m=\u001b[0m\u001b[0mrequest\u001b[0m\u001b[0;34m)\u001b[0m\u001b[0;34m\u001b[0m\u001b[0;34m\u001b[0m\u001b[0m\n\u001b[0m\u001b[1;32m    701\u001b[0m \u001b[0;34m\u001b[0m\u001b[0m\n\u001b[1;32m    702\u001b[0m         \u001b[0;32mexcept\u001b[0m \u001b[0mClosedPoolError\u001b[0m \u001b[0;32mas\u001b[0m \u001b[0me\u001b[0m\u001b[0;34m:\u001b[0m\u001b[0;34m\u001b[0m\u001b[0;34m\u001b[0m\u001b[0m\n",
            "\u001b[0;31mConnectionError\u001b[0m: HTTPSConnectionPool(host='www.amazon.comhttps', port=443): Max retries exceeded with url: /aax-eu.amazon.co.uk/x/c/JHwD1Z5CreGfxfQ8uxccKs0AAAGTCH54_wMAAAH2AQBvbm9fdHhuX2JpZDIgICBvbm9fdHhuX2ltcDEgICCQbrtK/https://www.amazon.co.uk/Adjustable-Bracket-Surface-Portable-Monitor-Black/dp/B08L4W9C9N/ref=sxbs_sbv_search_btf?content-id=amzn1.sym.74376d27-29ad-4668-acf9-017b903e74ef%3Aamzn1.sym.74376d27-29ad-4668-acf9-017b903e74ef&crid=M4TWXFEQQUKW&cv_ct_cx=pink+ipad&dib=eyJ2IjoiMSJ9.7waBeZPu-rUCBJtKKBe0MQ.sOyuFcmSBq1Ms__aWPz7DZPzjbOkPvOXe7wBYEL6nLU&dib_tag=se&keywords=pink+ipad&nsdOptOutParam=true&pd_rd_i=B08L4W9C9N&pd_rd_r=cc0be81d-54d1-4890-bd27-b3c0cb4d8161&pd_rd_w=xE9Hv&pd_rd_wg=WahfG&pf_rd_p=74376d27-29ad-4668-acf9-017b903e74ef&pf_rd_r=B7ASJJDMR0V1XZ9YFE1S&qid=1731014326&sbo=RZvfv%2F%2FHxDF%2BO5021pAnSA%3D%3D&sprefix=pink+ipad%2Caps%2C96&sr=1-1-f1821008-9dea-4812-b2b6-4a6e4a4f2d55 (Caused by NameResolutionError(\"<urllib3.connection.HTTPSConnection object at 0x7800c3986d70>: Failed to resolve 'www.amazon.comhttps' ([Errno -2] Name or service not known)\"))"
          ]
        }
      ]
    }
  ]
}